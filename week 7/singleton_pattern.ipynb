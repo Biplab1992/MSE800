{
 "cells": [
  {
   "cell_type": "code",
   "execution_count": 16,
   "id": "3419b9df",
   "metadata": {},
   "outputs": [
    {
     "name": "stdout",
     "output_type": "stream",
     "text": [
      "Memory address of car_name: 2743563333248\n",
      "Toyota has been rented.\n",
      "Available cars: ['Honda', 'Ford']\n",
      "Are both managers the same object? True\n",
      "Memory address of car_name: 2743563333248\n",
      "Memory address of manager1 and manager2: 2743563362928 and 2743563362928\n"
     ]
    }
   ],
   "source": [
    "class RentalManager:\n",
    "    _instance = None\n",
    "\n",
    "    def __new__(cls):\n",
    "        if cls._instance is None:\n",
    "            cls._instance = super(RentalManager, cls).__new__(cls)\n",
    "            cls._instance.cars_available = [\"Toyota\", \"Honda\", \"Ford\"]\n",
    "        return cls._instance\n",
    "\n",
    "    def rent_car(self, car_name):\n",
    "        print(\"Memory address of car_name:\", id(car_name))\n",
    "        if car_name in self.cars_available:\n",
    "            self.cars_available.remove(car_name)\n",
    "            print(f\"{car_name} has been rented.\")\n",
    "        else:\n",
    "            print(f\"{car_name} is not available.\")\n",
    "\n",
    "    def show_available_cars(self):\n",
    "        print(\"Available cars:\", self.cars_available)\n",
    "\n",
    "\n",
    "manager1 = RentalManager()\n",
    "manager2 = RentalManager()\n",
    "\n",
    "# Getting input from the user\n",
    "car_name = input(\"Enter the name of the car you want to rent: \") \n",
    "\n",
    "manager1.rent_car(car_name)\n",
    "manager2.show_available_cars() \n",
    "\n",
    "print(\"Are both managers the same object?\", manager1 is manager2)\n",
    "print(\"Memory address of car_name:\", id(car_name))\n",
    "print(\"Memory address of manager1 and manager2:\", id(manager1), 'and', id(manager2))\n"
   ]
  },
  {
   "cell_type": "code",
   "execution_count": null,
   "id": "377f93a3",
   "metadata": {},
   "outputs": [],
   "source": []
  },
  {
   "cell_type": "code",
   "execution_count": null,
   "id": "44a9f483",
   "metadata": {},
   "outputs": [
    {
     "name": "stdout",
     "output_type": "stream",
     "text": [
      "Available cars: ['Toyota', 'Honda', 'Ford']\n",
      "Honda has been rented.\n",
      "Available cars: ['Toyota', 'Ford']\n",
      "Are both managers the same object? True\n",
      "2743563333088 2743563333088\n"
     ]
    }
   ],
   "source": [
    "class RentalManager:\n",
    "    _instance = None\n",
    " \n",
    "    def __new__(cls):\n",
    "        if cls._instance is None:\n",
    "            cls._instance = super(RentalManager, cls).__new__(cls)\n",
    "            cls._instance.cars_available = [\"Toyota\", \"Honda\", \"Ford\"]\n",
    "        return cls._instance\n",
    " \n",
    "    def rent_car(self, car_name):\n",
    "        if car_name in self.cars_available:\n",
    "            self.cars_available.remove(car_name)\n",
    "            print(f\"{car_name} has been rented.\")\n",
    "        else:\n",
    "            print(f\"{car_name} is not available.\")\n",
    " \n",
    "    def show_available_cars(self):\n",
    "        print(\"Available cars:\", self.cars_available)\n",
    " \n",
    " \n",
    "manager1 = RentalManager()\n",
    "manager2 = RentalManager()\n",
    "manager1.show_available_cars() \n",
    "manager1.rent_car(\"Honda\")\n",
    "manager2.show_available_cars()\n",
    " \n",
    "print(\"Are both managers the same object?\", manager1 is manager2)\n",
    "print(id(manager1), id(manager2))\n"
   ]
  }
 ],
 "metadata": {
  "kernelspec": {
   "display_name": "base",
   "language": "python",
   "name": "python3"
  },
  "language_info": {
   "codemirror_mode": {
    "name": "ipython",
    "version": 3
   },
   "file_extension": ".py",
   "mimetype": "text/x-python",
   "name": "python",
   "nbconvert_exporter": "python",
   "pygments_lexer": "ipython3",
   "version": "3.12.7"
  }
 },
 "nbformat": 4,
 "nbformat_minor": 5
}
